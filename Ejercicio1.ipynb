{
 "cells": [
  {
   "cell_type": "markdown",
   "id": "55623c72-4122-471f-8dd5-973bfa0a50eb",
   "metadata": {},
   "source": [
    "# Ejercicio Extraccion de parrafos de un libro "
   ]
  },
  {
   "cell_type": "markdown",
   "id": "8496a784-b4da-4942-9399-a1123713890b",
   "metadata": {},
   "source": [
    "### Importacion de librerias"
   ]
  },
  {
   "cell_type": "code",
   "execution_count": 18,
   "id": "198bbac8-89ff-4ddb-b69d-647a42088479",
   "metadata": {},
   "outputs": [],
   "source": [
    "from pyspark.sql import SparkSession\n",
    "from pyspark.sql.functions import explode, split, col, regexp_replace, size\n",
    "import requests\n",
    "import re"
   ]
  },
  {
   "cell_type": "markdown",
   "id": "85592e23-d8a6-463f-9d68-875dc395d9d7",
   "metadata": {},
   "source": [
    "### Conexion con el cluster de spark y configuracion de instancia de sparkSession , asignamos el nombre \"ExtracionLibro\"  y verifica si la instancia ya fue creada o la crea"
   ]
  },
  {
   "cell_type": "code",
   "execution_count": 19,
   "id": "3bad05a2-9abc-4c1e-8414-eccd5043d012",
   "metadata": {},
   "outputs": [],
   "source": [
    "spark = SparkSession.builder.appName(\"ExtraccionLibro\").getOrCreate()"
   ]
  },
  {
   "cell_type": "markdown",
   "id": "030ad37a-2afe-4381-ad9d-66a8d7ec11c1",
   "metadata": {},
   "source": [
    "### Url del libro en txt  libro : The Enchiridion by epicteto"
   ]
  },
  {
   "cell_type": "code",
   "execution_count": 20,
   "id": "0629d963-118e-44bd-ae91-1462d9a67d26",
   "metadata": {},
   "outputs": [],
   "source": [
    "url = \"https://www.gutenberg.org/cache/epub/45109/pg45109.txt\""
   ]
  },
  {
   "cell_type": "code",
   "execution_count": 21,
   "id": "b42d3ba3-b8b7-4185-8112-515139a2f644",
   "metadata": {},
   "outputs": [],
   "source": [
    "response = requests.get(url)\n",
    "libro_texto =response.text"
   ]
  },
  {
   "cell_type": "markdown",
   "id": "71237cce-09a1-4a77-a3c1-2ec54d1d12f8",
   "metadata": {},
   "source": [
    "### guradamos la respuesta en un archivo de tipo txt"
   ]
  },
  {
   "cell_type": "code",
   "execution_count": 22,
   "id": "30349b77-1b91-4999-b85b-730e463c6161",
   "metadata": {},
   "outputs": [],
   "source": [
    "with open(\"TheEnchiridion.txt\", \"w\", encoding = \"utf-8\") as file:\n",
    "    file.write(libro_texto)"
   ]
  },
  {
   "cell_type": "markdown",
   "id": "d8a27c97-8b83-4c3f-b965-d63c5c55f98f",
   "metadata": {},
   "source": [
    "### Spark leera el archivo y lo convertira en u un RDD  \n",
    "\n",
    "\n",
    "-RDD (Resilient Distributed Datasets =   son conjuntos de datos distribuidos  que pueden ser procesados de manera paralela en un cluster de Spark \n",
    "-Son colecciones distribuidas e inmutables de objetos de cualquier tipo  \r",
    "-\n",
    "Son registros resilientes (tolerantes a fallas) de datos no estructurado  \n",
    "\n",
    "Por defecto crea un elemento en el RDD cada que encuentra un salto de linea \\n\n",
    " y lo guarda en la variable rdds"
   ]
  },
  {
   "cell_type": "code",
   "execution_count": 23,
   "id": "10452377-63fe-4f5d-a61b-18a18fa0b643",
   "metadata": {},
   "outputs": [],
   "source": [
    "rdd = spark.sparkContext.textFile(\"TheEnchiridion.txt\")"
   ]
  },
  {
   "cell_type": "markdown",
   "id": "f778aa6c-b810-4e4b-8699-786c45f18efb",
   "metadata": {},
   "source": [
    "### Filtrado de elementos del RDD\n",
    "aplicamos el metodo filter a la variable rdd, este metodo filtra por condicion  \n",
    "aplicamos una funcion anonima que elimina los espacios en blanco ysaltos de linea  \n",
    "Si la linea resultante es diferente de una cadana vacia entonces la guardamos"
   ]
  },
  {
   "cell_type": "code",
   "execution_count": 24,
   "id": "4857de50-d040-4399-8f3c-ef3fa3b0455d",
   "metadata": {},
   "outputs": [],
   "source": [
    " rdd = rdd.filter(lambda line: line.strip() !=\"\")"
   ]
  },
  {
   "cell_type": "markdown",
   "id": "b2538d6d-305a-4191-8aff-308305ef70e0",
   "metadata": {},
   "source": [
    " creamos una expresion regular para que coincida con el inicio de los capitulos que en este libro son con numeros romanos \n",
    " y creamos una lista que guarda las lineas que coinciden con el inicio de un capitulo "
   ]
  },
  {
   "cell_type": "code",
   "execution_count": 25,
   "id": "f7415289-769a-471e-a4ba-e8804b76602f",
   "metadata": {},
   "outputs": [],
   "source": [
    "numeros_romanos = r\"^(L?X{0,3})(IX|IV|V?I{0,3})\\b\"\n",
    "capitulos = rdd.filter(lambda line: re.match(numeros_romanos, line.strip())).collect()\n"
   ]
  },
  {
   "cell_type": "markdown",
   "id": "fda2381a-8f7c-404e-897a-7f241155e0a1",
   "metadata": {},
   "source": [
    "aplicamos un metodo flatmap que aplica una funcion a cada elemento del RDD y al junta los resultados en un solo elemento, la funcion  sepára cada elemeto en donde exista un salto de linea \\n\\n y con la  funcion falt map lo volvemos a juntar para que se cuente como un solo parrafo"
   ]
  },
  {
   "cell_type": "code",
   "execution_count": 40,
   "id": "3bfa530b-b1fd-4698-906e-681191941a96",
   "metadata": {},
   "outputs": [],
   "source": [
    "\n",
    "parrafos = rdd.flatMap(lambda line: line.split(\"\\n\\n\"))"
   ]
  },
  {
   "cell_type": "markdown",
   "id": "39e61bbb-5305-443a-af3f-0d9f47f3a3bd",
   "metadata": {},
   "source": [
    "almacenamos en \"df_parrafos un dataFrame  que con una columna llamada \"parrafo\"   \n",
    " con la lista de parrafos aplicamos el metod map  que aplica una funcion a cada elemento , le aplicacmos una funcion anonuma que por cada linea  cree una tupla de un solo elemento y la alacene  la columna del dataframe"
   ]
  },
  {
   "cell_type": "code",
   "execution_count": 27,
   "id": "04c0125a-c06d-46e6-b6bb-e0366bf13a38",
   "metadata": {},
   "outputs": [],
   "source": [
    "df_parrafos = parrafos.map(lambda p: (p,)).toDF([\"parrafo\"])"
   ]
  },
  {
   "cell_type": "code",
   "execution_count": 41,
   "id": "2510159f-26c1-4fd4-bcc7-6a11b1c4e8bf",
   "metadata": {},
   "outputs": [
    {
     "name": "stdout",
     "output_type": "stream",
     "text": [
      "+--------------------+--------------------+--------------------+-------------+--------------------+------------+\n",
      "|             parrafo|      parrafo_limpio|           oraciones|num_oraciones|            palabras|num_palabras|\n",
      "+--------------------+--------------------+--------------------+-------------+--------------------+------------+\n",
      "|The Project Guten...|The Project Guten...|[The Project Gute...|            1|[The, Project, Gu...|           7|\n",
      "|This ebook is for...|This ebook is for...|[This ebook is fo...|            1|[This, ebook, is,...|          14|\n",
      "|most other parts ...|most other parts ...|[most other parts...|            1|[most, other, par...|          14|\n",
      "|whatsoever. You m...|whatsoever You ma...|[whatsoever You m...|            1|[whatsoever, You,...|          14|\n",
      "|of the Project Gu...|of the Project Gu...|[of the Project G...|            1|[of, the, Project...|          11|\n",
      "|at www.gutenberg....|at wwwgutenbergor...|[at wwwgutenbergo...|            1|[at, wwwgutenberg...|          11|\n",
      "|you will have to ...|you will have to ...|[you will have to...|            1|[you, will, have,...|          14|\n",
      "|before using this...|before using this...|[before using thi...|            1|[before, using, t...|           4|\n",
      "|Title: The Enchir...|Title The Enchiri...|[Title The Enchir...|            1|[Title, The, Ench...|           3|\n",
      "|   Author: Epictetus|    Author Epictetus|  [Author Epictetus]|            1| [Author, Epictetus]|           2|\n",
      "|Translator: Thoma...|Translator Thomas...|[Translator Thoma...|            1|[Translator, Thom...|           4|\n",
      "|Release date: Mar...|Release date Marc...|[Release date Mar...|            1|[Release, date, M...|           5|\n",
      "|                M...| Most recently up...|[ Most recently u...|            1|[, Most, recently...|           6|\n",
      "|   Language: English|    Language English|  [Language English]|            1| [Language, English]|           2|\n",
      "|Credits: Stephen ...|Credits Stephen H...|[Credits Stephen ...|            1|[Credits, Stephen...|          11|\n",
      "|*** START OF THE ...| START OF THE PRO...|[ START OF THE PR...|            1|[, START, OF, THE...|          10|\n",
      "|                 ...| The Library of L...|[ The Library of ...|            1|[, The, Library, ...|           6|\n",
      "|                 ...| OSKAR PIEST Gene...|[ OSKAR PIEST Gen...|            1|[, OSKAR, PIEST, ...|           5|\n",
      "|                 ...|        NUMBER EIGHT|     [ NUMBER EIGHT]|            1|   [, NUMBER, EIGHT]|           3|\n",
      "|                 ...|           EPICTETUS|        [ EPICTETUS]|            1|       [, EPICTETUS]|           2|\n",
      "|                 ...|     The Enchiridion|  [ The Enchiridion]|            1|[, The, Enchiridion]|           3|\n",
      "|                 ...|     The Enchiridion|  [ The Enchiridion]|            1|[, The, Enchiridion]|           3|\n",
      "|                 ...|                  By|               [ By]|            1|              [, By]|           2|\n",
      "|                 ...|           EPICTETUS|        [ EPICTETUS]|            1|       [, EPICTETUS]|           2|\n",
      "|                 ...|       Translated by|    [ Translated by]|            1|  [, Translated, by]|           3|\n",
      "|                 ...|  THOMAS W HIGGINSON|[ THOMAS W HIGGIN...|            1|[, THOMAS, W, HIG...|           4|\n",
      "|                 ...| With an Introduc...|[ With an Introdu...|            1|[, With, an, Intr...|           5|\n",
      "|                 ...|      ALBERT SALOMON|   [ ALBERT SALOMON]|            1| [, ALBERT, SALOMON]|           3|\n",
      "|                 ...| Professor of Soc...|[ Professor of So...|            1|[, Professor, of,...|           4|\n",
      "|                 ...| New School for S...|[ New School for ...|            1|[, New, School, f...|           6|\n",
      "|                 ...| THE LIBERAL ARTS...|[ THE LIBERAL ART...|            1|[, THE, LIBERAL, ...|           5|\n",
      "|                 ...|            NEW YORK|         [ NEW YORK]|            1|       [, NEW, YORK]|           3|\n",
      "|                 ...|          COPYRIGHT |       [ COPYRIGHT ]|            1|     [, COPYRIGHT, ]|           3|\n",
      "|                 ...| THE LIBERAL ARTS...|[ THE LIBERAL ART...|            1|[, THE, LIBERAL, ...|           6|\n",
      "|                 ...| First Edition Oc...|[ First Edition O...|            1|[, First, Edition...|           5|\n",
      "|                 ...|           Reprinted|        [ Reprinted]|            1|       [, Reprinted]|           2|\n",
      "|                 ...|    December August | [ December August ]|            1|[, December, Augu...|           4|\n",
      "|                 ...| Second Edition N...|[ Second Edition ...|            1|[, Second, Editio...|           5|\n",
      "|         Publishe...| Published at Wes...|[ Published at We...|            1|[, Published, at,...|          10|\n",
      "|                P...| Printed in the U...|[ Printed in the ...|            1|[, Printed, in, t...|           8|\n",
      "|                 ...|            CONTENTS|         [ CONTENTS]|            1|        [, CONTENTS]|           2|\n",
      "|    Note on the Text|    Note on the Text| [ Note on the Text]|            1|[, Note, on, the,...|           5|\n",
      "|        Introduction|        Introduction|     [ Introduction]|            1|    [, Introduction]|           2|\n",
      "|  Selected Biblio...| Selected Bibliog...|[ Selected Biblio...|            1|[, Selected, Bibl...|           3|\n",
      "|     The Enchiridion|     The Enchiridion|  [ The Enchiridion]|            1|[, The, Enchiridion]|           3|\n",
      "|                 ...|    NOTE ON THE TEXT| [ NOTE ON THE TEXT]|            1|[, NOTE, ON, THE,...|           5|\n",
      "|The text of the s...|The text of the s...|[The text of the ...|            1|[The, text, of, t...|          14|\n",
      "|for a few minor c...|for a few minor c...|[for a few minor ...|            1|[for, a, few, min...|          11|\n",
      "|have been revised...|have been revised...|[have been revise...|            1|[have, been, revi...|           9|\n",
      "|The editorial sta...|The editorial sta...|[The editorial st...|            1|[The, editorial, ...|          12|\n",
      "+--------------------+--------------------+--------------------+-------------+--------------------+------------+\n",
      "only showing top 50 rows\n",
      "\n"
     ]
    }
   ],
   "source": [
    "# Mostramos los resultados\n",
    "df_parrafos.show(50)"
   ]
  },
  {
   "cell_type": "markdown",
   "id": "51fe5db2-c974-4366-a8d1-c7674d903965",
   "metadata": {},
   "source": [
    " agregamso una columna con los datos de la columna anterior pero aplicamos una  rexpresion regular para indicarle que elimine los caracteres que no conincidan con letras mayusculas o minusculas y espacion en blanco \\s "
   ]
  },
  {
   "cell_type": "code",
   "execution_count": 32,
   "id": "eea46d5b-1e6d-40f7-b5ae-09dc872120f0",
   "metadata": {},
   "outputs": [],
   "source": [
    "df_parrafos = df_parrafos.withColumn(\"parrafo_limpio\", regexp_replace(col(\"parrafo\"), \"[^a-zA-Z\\s]\", \"\").alias(\"parrafo_limpio\"))"
   ]
  },
  {
   "cell_type": "markdown",
   "id": "9cb876e6-ade0-4ed5-8b4a-bbba227c152f",
   "metadata": {},
   "source": [
    "reemplazamos multiple espacion en blanco por un solo espacio en blanco"
   ]
  },
  {
   "cell_type": "code",
   "execution_count": 33,
   "id": "fa977da2-57d9-40aa-800d-2ad6d101a826",
   "metadata": {},
   "outputs": [],
   "source": [
    "df_parrafos = df_parrafos.withColumn(\"parrafo_limpio\", regexp_replace(col(\"parrafo_limpio\"), \"\\s+\", \" \").alias(\"parrafo_limpio\"))"
   ]
  },
  {
   "cell_type": "code",
   "execution_count": 42,
   "id": "41ca3c6a-47c8-42c5-ae35-04a39bbf5e29",
   "metadata": {},
   "outputs": [
    {
     "name": "stdout",
     "output_type": "stream",
     "text": [
      "+--------------------+--------------------+--------------------+-------------+--------------------+------------+\n",
      "|             parrafo|      parrafo_limpio|           oraciones|num_oraciones|            palabras|num_palabras|\n",
      "+--------------------+--------------------+--------------------+-------------+--------------------+------------+\n",
      "|The Project Guten...|The Project Guten...|[The Project Gute...|            1|[The, Project, Gu...|           7|\n",
      "|This ebook is for...|This ebook is for...|[This ebook is fo...|            1|[This, ebook, is,...|          14|\n",
      "|most other parts ...|most other parts ...|[most other parts...|            1|[most, other, par...|          14|\n",
      "|whatsoever. You m...|whatsoever You ma...|[whatsoever You m...|            1|[whatsoever, You,...|          14|\n",
      "|of the Project Gu...|of the Project Gu...|[of the Project G...|            1|[of, the, Project...|          11|\n",
      "|at www.gutenberg....|at wwwgutenbergor...|[at wwwgutenbergo...|            1|[at, wwwgutenberg...|          11|\n",
      "|you will have to ...|you will have to ...|[you will have to...|            1|[you, will, have,...|          14|\n",
      "|before using this...|before using this...|[before using thi...|            1|[before, using, t...|           4|\n",
      "|Title: The Enchir...|Title The Enchiri...|[Title The Enchir...|            1|[Title, The, Ench...|           3|\n",
      "|   Author: Epictetus|    Author Epictetus|  [Author Epictetus]|            1| [Author, Epictetus]|           2|\n",
      "|Translator: Thoma...|Translator Thomas...|[Translator Thoma...|            1|[Translator, Thom...|           4|\n",
      "|Release date: Mar...|Release date Marc...|[Release date Mar...|            1|[Release, date, M...|           5|\n",
      "|                M...| Most recently up...|[ Most recently u...|            1|[, Most, recently...|           6|\n",
      "|   Language: English|    Language English|  [Language English]|            1| [Language, English]|           2|\n",
      "|Credits: Stephen ...|Credits Stephen H...|[Credits Stephen ...|            1|[Credits, Stephen...|          11|\n",
      "|*** START OF THE ...| START OF THE PRO...|[ START OF THE PR...|            1|[, START, OF, THE...|          10|\n",
      "|                 ...| The Library of L...|[ The Library of ...|            1|[, The, Library, ...|           6|\n",
      "|                 ...| OSKAR PIEST Gene...|[ OSKAR PIEST Gen...|            1|[, OSKAR, PIEST, ...|           5|\n",
      "|                 ...|        NUMBER EIGHT|     [ NUMBER EIGHT]|            1|   [, NUMBER, EIGHT]|           3|\n",
      "|                 ...|           EPICTETUS|        [ EPICTETUS]|            1|       [, EPICTETUS]|           2|\n",
      "+--------------------+--------------------+--------------------+-------------+--------------------+------------+\n",
      "only showing top 20 rows\n",
      "\n"
     ]
    }
   ],
   "source": [
    "df_parrafos.show()"
   ]
  },
  {
   "cell_type": "code",
   "execution_count": 37,
   "id": "55e29acf-bda9-4207-ace1-b1c0f48b3fce",
   "metadata": {},
   "outputs": [],
   "source": [
    "#agregamos un columna oraciones donde dividimos   cuando encuentre un  punto\n",
    "df_parrafos = df_parrafos.withColumn(\"oraciones\", split(col(\"parrafo_limpio\"), \"\\.\"))\n",
    "# agregamos una columan num_oraciones donde nos muestra el numeros de elementos mediante size\n",
    "df_parrafos = df_parrafos.withColumn(\"num_oraciones\", size(col(\"oraciones\")))\n",
    "#agregamso la columna palabras  diviendo la oracion por espacios\n",
    "df_parrafos = df_parrafos.withColumn(\"palabras\", split(col(\"parrafo_limpio\"), \" \"))\n",
    "#agregamos la columna  num_palabras contrando los elemento en pakabras mediante sizze\n",
    "df_parrafos = df_parrafos.withColumn(\"num_palabras\", size(col(\"palabras\")))"
   ]
  },
  {
   "cell_type": "markdown",
   "id": "2115f48a-0ecf-4f7b-a782-924f54632ec6",
   "metadata": {},
   "source": [
    "### Resultados finales "
   ]
  },
  {
   "cell_type": "code",
   "execution_count": 43,
   "id": "3287d3b7-5961-4dc1-9442-88598697dc52",
   "metadata": {},
   "outputs": [
    {
     "name": "stdout",
     "output_type": "stream",
     "text": [
      "+--------------------+--------------------+--------------------+-------------+--------------------+------------+\n",
      "|             parrafo|      parrafo_limpio|           oraciones|num_oraciones|            palabras|num_palabras|\n",
      "+--------------------+--------------------+--------------------+-------------+--------------------+------------+\n",
      "|The Project Guten...|The Project Guten...|[The Project Gute...|            1|[The, Project, Gu...|           7|\n",
      "|This ebook is for...|This ebook is for...|[This ebook is fo...|            1|[This, ebook, is,...|          14|\n",
      "|most other parts ...|most other parts ...|[most other parts...|            1|[most, other, par...|          14|\n",
      "|whatsoever. You m...|whatsoever You ma...|[whatsoever You m...|            1|[whatsoever, You,...|          14|\n",
      "|of the Project Gu...|of the Project Gu...|[of the Project G...|            1|[of, the, Project...|          11|\n",
      "|at www.gutenberg....|at wwwgutenbergor...|[at wwwgutenbergo...|            1|[at, wwwgutenberg...|          11|\n",
      "|you will have to ...|you will have to ...|[you will have to...|            1|[you, will, have,...|          14|\n",
      "|before using this...|before using this...|[before using thi...|            1|[before, using, t...|           4|\n",
      "|Title: The Enchir...|Title The Enchiri...|[Title The Enchir...|            1|[Title, The, Ench...|           3|\n",
      "|   Author: Epictetus|    Author Epictetus|  [Author Epictetus]|            1| [Author, Epictetus]|           2|\n",
      "|Translator: Thoma...|Translator Thomas...|[Translator Thoma...|            1|[Translator, Thom...|           4|\n",
      "|Release date: Mar...|Release date Marc...|[Release date Mar...|            1|[Release, date, M...|           5|\n",
      "|                M...| Most recently up...|[ Most recently u...|            1|[, Most, recently...|           6|\n",
      "|   Language: English|    Language English|  [Language English]|            1| [Language, English]|           2|\n",
      "|Credits: Stephen ...|Credits Stephen H...|[Credits Stephen ...|            1|[Credits, Stephen...|          11|\n",
      "|*** START OF THE ...| START OF THE PRO...|[ START OF THE PR...|            1|[, START, OF, THE...|          10|\n",
      "|                 ...| The Library of L...|[ The Library of ...|            1|[, The, Library, ...|           6|\n",
      "|                 ...| OSKAR PIEST Gene...|[ OSKAR PIEST Gen...|            1|[, OSKAR, PIEST, ...|           5|\n",
      "|                 ...|        NUMBER EIGHT|     [ NUMBER EIGHT]|            1|   [, NUMBER, EIGHT]|           3|\n",
      "|                 ...|           EPICTETUS|        [ EPICTETUS]|            1|       [, EPICTETUS]|           2|\n",
      "|                 ...|     The Enchiridion|  [ The Enchiridion]|            1|[, The, Enchiridion]|           3|\n",
      "|                 ...|     The Enchiridion|  [ The Enchiridion]|            1|[, The, Enchiridion]|           3|\n",
      "|                 ...|                  By|               [ By]|            1|              [, By]|           2|\n",
      "|                 ...|           EPICTETUS|        [ EPICTETUS]|            1|       [, EPICTETUS]|           2|\n",
      "|                 ...|       Translated by|    [ Translated by]|            1|  [, Translated, by]|           3|\n",
      "|                 ...|  THOMAS W HIGGINSON|[ THOMAS W HIGGIN...|            1|[, THOMAS, W, HIG...|           4|\n",
      "|                 ...| With an Introduc...|[ With an Introdu...|            1|[, With, an, Intr...|           5|\n",
      "|                 ...|      ALBERT SALOMON|   [ ALBERT SALOMON]|            1| [, ALBERT, SALOMON]|           3|\n",
      "|                 ...| Professor of Soc...|[ Professor of So...|            1|[, Professor, of,...|           4|\n",
      "|                 ...| New School for S...|[ New School for ...|            1|[, New, School, f...|           6|\n",
      "|                 ...| THE LIBERAL ARTS...|[ THE LIBERAL ART...|            1|[, THE, LIBERAL, ...|           5|\n",
      "|                 ...|            NEW YORK|         [ NEW YORK]|            1|       [, NEW, YORK]|           3|\n",
      "|                 ...|          COPYRIGHT |       [ COPYRIGHT ]|            1|     [, COPYRIGHT, ]|           3|\n",
      "|                 ...| THE LIBERAL ARTS...|[ THE LIBERAL ART...|            1|[, THE, LIBERAL, ...|           6|\n",
      "|                 ...| First Edition Oc...|[ First Edition O...|            1|[, First, Edition...|           5|\n",
      "|                 ...|           Reprinted|        [ Reprinted]|            1|       [, Reprinted]|           2|\n",
      "|                 ...|    December August | [ December August ]|            1|[, December, Augu...|           4|\n",
      "|                 ...| Second Edition N...|[ Second Edition ...|            1|[, Second, Editio...|           5|\n",
      "|         Publishe...| Published at Wes...|[ Published at We...|            1|[, Published, at,...|          10|\n",
      "|                P...| Printed in the U...|[ Printed in the ...|            1|[, Printed, in, t...|           8|\n",
      "|                 ...|            CONTENTS|         [ CONTENTS]|            1|        [, CONTENTS]|           2|\n",
      "|    Note on the Text|    Note on the Text| [ Note on the Text]|            1|[, Note, on, the,...|           5|\n",
      "|        Introduction|        Introduction|     [ Introduction]|            1|    [, Introduction]|           2|\n",
      "|  Selected Biblio...| Selected Bibliog...|[ Selected Biblio...|            1|[, Selected, Bibl...|           3|\n",
      "|     The Enchiridion|     The Enchiridion|  [ The Enchiridion]|            1|[, The, Enchiridion]|           3|\n",
      "|                 ...|    NOTE ON THE TEXT| [ NOTE ON THE TEXT]|            1|[, NOTE, ON, THE,...|           5|\n",
      "|The text of the s...|The text of the s...|[The text of the ...|            1|[The, text, of, t...|          14|\n",
      "|for a few minor c...|for a few minor c...|[for a few minor ...|            1|[for, a, few, min...|          11|\n",
      "|have been revised...|have been revised...|[have been revise...|            1|[have, been, revi...|           9|\n",
      "|The editorial sta...|The editorial sta...|[The editorial st...|            1|[The, editorial, ...|          12|\n",
      "|which are set in ...|which are set in ...|[which are set in...|            1|[which, are, set,...|           8|\n",
      "|                 ...|                  OP|               [ OP]|            1|              [, OP]|           2|\n",
      "|                 ...|        INTRODUCTION|     [ INTRODUCTION]|            1|    [, INTRODUCTION]|           2|\n",
      "|The little book b...|The little book b...|[The little book ...|            1|[The, little, boo...|          11|\n",
      "|a disproportionat...|a disproportionat...|[a disproportiona...|            1|[a, disproportion...|          11|\n",
      "|modern philosophy...|modern philosophy...|[modern philosoph...|            1|[modern, philosop...|          12|\n",
      "|languages, it bec...|languages it beca...|[languages it bec...|            1|[languages, it, b...|           9|\n",
      "|anti-Christian th...|antiChristian thi...|[antiChristian th...|            1|[antiChristian, t...|           9|\n",
      "|Montaigne had a c...|Montaigne had a c...|[Montaigne had a ...|            1|[Montaigne, had, ...|          11|\n",
      "|violently rejecte...|violently rejecte...|[violently reject...|            1|[violently, rejec...|           9|\n",
      "+--------------------+--------------------+--------------------+-------------+--------------------+------------+\n",
      "only showing top 60 rows\n",
      "\n"
     ]
    }
   ],
   "source": [
    "df_parrafos.show(60)"
   ]
  },
  {
   "cell_type": "code",
   "execution_count": null,
   "id": "b1fd025b-71fc-4122-9f26-640ce0a8b3f9",
   "metadata": {},
   "outputs": [],
   "source": []
  }
 ],
 "metadata": {
  "kernelspec": {
   "display_name": "Python 3 (ipykernel)",
   "language": "python",
   "name": "python3"
  },
  "language_info": {
   "codemirror_mode": {
    "name": "ipython",
    "version": 3
   },
   "file_extension": ".py",
   "mimetype": "text/x-python",
   "name": "python",
   "nbconvert_exporter": "python",
   "pygments_lexer": "ipython3",
   "version": "3.11.6"
  }
 },
 "nbformat": 4,
 "nbformat_minor": 5
}
