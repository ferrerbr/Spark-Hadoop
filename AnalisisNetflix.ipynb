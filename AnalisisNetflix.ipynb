{
 "cells": [
  {
   "cell_type": "markdown",
   "id": "aa476d09-e92c-459c-b2a8-ff76a6fc9928",
   "metadata": {},
   "source": [
    "## Impotacion de los modulos "
   ]
  },
  {
   "cell_type": "code",
   "execution_count": null,
   "id": "df9c13b2-b19d-4a06-98eb-2968071a8454",
   "metadata": {},
   "outputs": [],
   "source": [
    "import tempfile\n",
    "from pyspark.sql import SparkSession\n",
    "from pyspark.sql.functions import corr, col, count, when\n",
    "from pyspark.sql import SparkSession"
   ]
  },
  {
   "cell_type": "markdown",
   "id": "fc246701-872f-44b2-b9e6-99efd14c0f0e",
   "metadata": {},
   "source": [
    "## Configuracion  de la instanci y conexion con el cluster"
   ]
  },
  {
   "cell_type": "code",
   "execution_count": 4,
   "id": "403d9905-2594-4241-bbdd-18c54eccb1cf",
   "metadata": {},
   "outputs": [],
   "source": [
    "spark = SparkSession.builder \\\n",
    "    .appName(\"NetflixAnalysisBoto3\") \\\n",
    "    .master(\"local[*]\") \\\n",
    "    .config(\"spark.executor.memory\", \"4g\") \\\n",
    "    .config(\"spark.driver.memory\", \"2g\") \\\n",
    "    .config(\"spark.executor.cores\", \"2\") \\\n",
    "    .config(\"spark.serializer\", \"org.apache.spark.serializer.KryoSerializer\") \\\n",
    "    .config(\"spark.sql.files.maxPartitionBytes\", \"128MB\") \\\n",
    "    .config(\"spark.sql.shuffle.partitions\", \"200\") \\\n",
    "    .config(\"spark.sql.execution.arrow.enabled\", \"true\") \\\n",
    "    .getOrCreate()"
   ]
  },
  {
   "cell_type": "code",
   "execution_count": 5,
   "id": "8d648dfd-e60d-4c5b-bfd3-d0aabc65804f",
   "metadata": {},
   "outputs": [
    {
     "data": {
      "text/plain": [
       "'2'"
      ]
     },
     "execution_count": 5,
     "metadata": {},
     "output_type": "execute_result"
    }
   ],
   "source": [
    "spark.conf.get(\"spark.executor.cores\")"
   ]
  },
  {
   "cell_type": "markdown",
   "id": "650a0934-608d-4e83-b5e2-958ed1fd7ee3",
   "metadata": {},
   "source": [
    " ## Lectura del  archivo csv en un dataFrame de Spark e infiere el tipo de dato que guarda por columna"
   ]
  },
  {
   "cell_type": "code",
   "execution_count": 12,
   "id": "3a689538-7c17-4e70-bd37-626fc66a4245",
   "metadata": {},
   "outputs": [],
   "source": [
    "df =spark.read.csv(\"netflix_titles.csv\",header =True, inferSchema =True)"
   ]
  },
  {
   "cell_type": "code",
   "execution_count": 13,
   "id": "969253bb-9f7f-4163-9f26-ff88616ad31c",
   "metadata": {},
   "outputs": [
    {
     "name": "stdout",
     "output_type": "stream",
     "text": [
      "+-------+-------+--------------------+--------------------+--------------------+--------------------+------------------+------------+------+---------+--------------------+--------------------+\n",
      "|show_id|   type|               title|            director|                cast|             country|        date_added|release_year|rating| duration|           listed_in|         description|\n",
      "+-------+-------+--------------------+--------------------+--------------------+--------------------+------------------+------------+------+---------+--------------------+--------------------+\n",
      "|     s1|  Movie|Dick Johnson Is Dead|     Kirsten Johnson|                NULL|       United States|September 25, 2021|        2020| PG-13|   90 min|       Documentaries|As her father nea...|\n",
      "|     s2|TV Show|       Blood & Water|                NULL|Ama Qamata, Khosi...|        South Africa|September 24, 2021|        2021| TV-MA|2 Seasons|International TV ...|After crossing pa...|\n",
      "|     s3|TV Show|           Ganglands|     Julien Leclercq|Sami Bouajila, Tr...|                NULL|September 24, 2021|        2021| TV-MA| 1 Season|Crime TV Shows, I...|To protect his fa...|\n",
      "|     s4|TV Show|Jailbirds New Orl...|                NULL|                NULL|                NULL|September 24, 2021|        2021| TV-MA| 1 Season|Docuseries, Reali...|Feuds, flirtation...|\n",
      "|     s5|TV Show|        Kota Factory|                NULL|Mayur More, Jiten...|               India|September 24, 2021|        2021| TV-MA|2 Seasons|International TV ...|In a city of coac...|\n",
      "|     s6|TV Show|       Midnight Mass|       Mike Flanagan|Kate Siegel, Zach...|                NULL|September 24, 2021|        2021| TV-MA| 1 Season|TV Dramas, TV Hor...|The arrival of a ...|\n",
      "|     s7|  Movie|My Little Pony: A...|Robert Cullen, Jo...|Vanessa Hudgens, ...|                NULL|September 24, 2021|        2021|    PG|   91 min|Children & Family...|Equestria's divid...|\n",
      "|     s8|  Movie|             Sankofa|        Haile Gerima|Kofi Ghanaba, Oya...|United States, Gh...|September 24, 2021|        1993| TV-MA|  125 min|Dramas, Independe...|On a photo shoot ...|\n",
      "|     s9|TV Show|The Great British...|     Andy Devonshire|Mel Giedroyc, Sue...|      United Kingdom|September 24, 2021|        2021| TV-14|9 Seasons|British TV Shows,...|A talented batch ...|\n",
      "|    s10|  Movie|        The Starling|      Theodore Melfi|Melissa McCarthy,...|       United States|September 24, 2021|        2021| PG-13|  104 min|    Comedies, Dramas|A woman adjusting...|\n",
      "|    s11|TV Show|Vendetta: Truth, ...|                NULL|                NULL|                NULL|September 24, 2021|        2021| TV-MA| 1 Season|Crime TV Shows, D...|\"Sicily boasts a ...|\n",
      "|    s12|TV Show|    Bangkok Breaking|   Kongkiat Komesiri|Sukollawat Kanaro...|                NULL|September 23, 2021|        2021| TV-MA| 1 Season|Crime TV Shows, I...|Struggling to ear...|\n",
      "|    s13|  Movie|        Je Suis Karl| Christian Schwochow|Luna Wedler, Jann...|Germany, Czech Re...|September 23, 2021|        2021| TV-MA|  127 min|Dramas, Internati...|After most of her...|\n",
      "|    s14|  Movie|Confessions of an...|       Bruno Garotti|Klara Castanho, L...|                NULL|September 22, 2021|        2021| TV-PG|   91 min|Children & Family...|When the clever b...|\n",
      "|    s15|TV Show|Crime Stories: In...|                NULL|                NULL|                NULL|September 22, 2021|        2021| TV-MA| 1 Season|British TV Shows,...|Cameras following...|\n",
      "|    s16|TV Show|   Dear White People|                NULL|Logan Browning, B...|       United States|September 22, 2021|        2021| TV-MA|4 Seasons|TV Comedies, TV D...|\"Students of colo...|\n",
      "|    s17|  Movie|Europe's Most Dan...|Pedro de Echave G...|                NULL|                NULL|September 22, 2021|        2020| TV-MA|   67 min|Documentaries, In...|Declassified docu...|\n",
      "|    s18|TV Show|     Falsa identidad|                NULL|Luis Ernesto Fran...|              Mexico|September 22, 2021|        2020| TV-MA|2 Seasons|Crime TV Shows, S...|Strangers Diego a...|\n",
      "|    s19|  Movie|           Intrusion|          Adam Salky|Freida Pinto, Log...|                NULL|September 22, 2021|        2021| TV-14|   94 min|           Thrillers|After a deadly ho...|\n",
      "|    s20|TV Show|              Jaguar|                NULL|Blanca Suárez, Iv...|                NULL|September 22, 2021|        2021| TV-MA| 1 Season|International TV ...|In the 1960s, a H...|\n",
      "+-------+-------+--------------------+--------------------+--------------------+--------------------+------------------+------------+------+---------+--------------------+--------------------+\n",
      "only showing top 20 rows\n",
      "\n"
     ]
    }
   ],
   "source": [
    "# Mostrar los resultados\n",
    "df.show()"
   ]
  },
  {
   "cell_type": "code",
   "execution_count": 14,
   "id": "b2b2b367-5a09-4651-833f-bcee266d6983",
   "metadata": {},
   "outputs": [
    {
     "name": "stdout",
     "output_type": "stream",
     "text": [
      "root\n",
      " |-- show_id: string (nullable = true)\n",
      " |-- type: string (nullable = true)\n",
      " |-- title: string (nullable = true)\n",
      " |-- director: string (nullable = true)\n",
      " |-- cast: string (nullable = true)\n",
      " |-- country: string (nullable = true)\n",
      " |-- date_added: string (nullable = true)\n",
      " |-- release_year: string (nullable = true)\n",
      " |-- rating: string (nullable = true)\n",
      " |-- duration: string (nullable = true)\n",
      " |-- listed_in: string (nullable = true)\n",
      " |-- description: string (nullable = true)\n",
      "\n"
     ]
    }
   ],
   "source": [
    "df.printSchema()"
   ]
  },
  {
   "cell_type": "markdown",
   "id": "ab7f9b9e-de63-45d4-9164-5793090a981d",
   "metadata": {},
   "source": [
    "## Consultas"
   ]
  },
  {
   "cell_type": "markdown",
   "id": "b9c5c5b4-cbae-45e8-ab2f-56ec19226079",
   "metadata": {},
   "source": [
    "### 1.Conteo de todos los registros"
   ]
  },
  {
   "cell_type": "code",
   "execution_count": 15,
   "id": "b66b17f5-0d4a-4363-9e3d-d6b331e2bf3d",
   "metadata": {},
   "outputs": [
    {
     "name": "stdout",
     "output_type": "stream",
     "text": [
      "8809\n"
     ]
    }
   ],
   "source": [
    "print(df.count())"
   ]
  },
  {
   "cell_type": "markdown",
   "id": "78a0c4d2-00cc-4306-a625-9948704cf601",
   "metadata": {},
   "source": [
    "### 2. Numero de  elementos por tipo "
   ]
  },
  {
   "cell_type": "code",
   "execution_count": 22,
   "id": "c554cad9-84f3-4932-8fe1-54e384c41a23",
   "metadata": {},
   "outputs": [
    {
     "name": "stdout",
     "output_type": "stream",
     "text": [
      "+-------------+-----+\n",
      "|         type|count|\n",
      "+-------------+-----+\n",
      "|         NULL|    1|\n",
      "|      TV Show| 2676|\n",
      "|        Movie| 6131|\n",
      "|William Wyler|    1|\n",
      "+-------------+-----+\n",
      "\n"
     ]
    }
   ],
   "source": [
    "df_group_type = df.groupBy(\"type\").count()\n",
    "df_group_type.show()"
   ]
  },
  {
   "cell_type": "markdown",
   "id": "5bac48b4-623d-410a-aef6-4d1e1168c539",
   "metadata": {},
   "source": [
    "### 3.Numero de elementos que son de Mexico"
   ]
  },
  {
   "cell_type": "code",
   "execution_count": 53,
   "id": "274359d5-1cfb-4074-ba9c-eccfba52c360",
   "metadata": {},
   "outputs": [
    {
     "name": "stdout",
     "output_type": "stream",
     "text": [
      "Peliculas de mexico : 110\n"
     ]
    }
   ],
   "source": [
    "df_movies_mexico = df.filter(col(\"country\")==\"Mexico\").count()\n",
    "print(f'Peliculas de mexico : {df_movies_mexico}')"
   ]
  },
  {
   "cell_type": "markdown",
   "id": "269b7577-d2ae-4489-86c1-45ffb44b47b5",
   "metadata": {},
   "source": [
    "### 4.Mostrar peliculas que  contienen la palabra Horror en  la columna listed_ in"
   ]
  },
  {
   "cell_type": "code",
   "execution_count": 48,
   "id": "b42ebf3a-6da3-4900-938e-a79bde393cff",
   "metadata": {},
   "outputs": [
    {
     "name": "stdout",
     "output_type": "stream",
     "text": [
      "+-----+--------------------+--------------------+--------------------+\n",
      "| type|               title|             country|           listed_in|\n",
      "+-----+--------------------+--------------------+--------------------+\n",
      "|Movie|          Dark Skies|       United States|Horror Movies, Sc...|\n",
      "|Movie|              Jaws 2|       United States|Dramas, Horror Mo...|\n",
      "|Movie|              Jaws 3|       United States|Action & Adventur...|\n",
      "|Movie|   Jaws: The Revenge|       United States|Action & Adventur...|\n",
      "|Movie|     Krishna Cottage|               India|Action & Adventur...|\n",
      "|Movie|          Ragini MMS|               India|Horror Movies, In...|\n",
      "|Movie|        Ragini MMS 2|               India|Horror Movies, In...|\n",
      "|Movie|        The Old Ways|       United States|       Horror Movies|\n",
      "|Movie|             Boomika|                NULL|Horror Movies, In...|\n",
      "|Movie|     Boomika (Hindi)|                NULL|Horror Movies, In...|\n",
      "|Movie| Boomika (Malayalam)|                NULL|Horror Movies, In...|\n",
      "|Movie|    Boomika (Telugu)|                NULL|Horror Movies, In...|\n",
      "|Movie|           The Swarm|              France|Horror Movies, In...|\n",
      "|Movie|           Aftermath|       United States|       Horror Movies|\n",
      "|Movie|       Deep Blue Sea|United States, Me...|Action & Adventur...|\n",
      "|Movie|The Haunting in C...|       United States|       Horror Movies|\n",
      "|Movie|       Blood Red Sky|                NULL|Action & Adventur...|\n",
      "|Movie|Kingdom: Ashin of...|                NULL|Horror Movies, In...|\n",
      "|Movie|Fear Street Part ...|                NULL|Horror Movies, LG...|\n",
      "|Movie|A Classic Horror ...|               Italy|Horror Movies, In...|\n",
      "+-----+--------------------+--------------------+--------------------+\n",
      "only showing top 20 rows\n",
      "\n"
     ]
    }
   ],
   "source": [
    "df_horror = df.select(\"type\",\"title\", \"country\",\"listed_in\").filter((col(\"type\") == \"Movie\") & (col(\"listed_in\").contains(\"Horror\")))\n",
    "df_horror.show()\n"
   ]
  },
  {
   "cell_type": "markdown",
   "id": "366b2b3f-4297-4769-8dc3-0dcdd9f84014",
   "metadata": {},
   "source": [
    "### 5.Filtrar  tv shows que tubieron mas de una temporada"
   ]
  },
  {
   "cell_type": "code",
   "execution_count": 54,
   "id": "eb3e4051-4a90-40fb-98f0-532b48832056",
   "metadata": {},
   "outputs": [
    {
     "name": "stdout",
     "output_type": "stream",
     "text": [
      "+--------------------+--------------------+---------+\n",
      "|               title|             country| duration|\n",
      "+--------------------+--------------------+---------+\n",
      "|       Blood & Water|        South Africa|2 Seasons|\n",
      "|        Kota Factory|               India|2 Seasons|\n",
      "|The Great British...|      United Kingdom|9 Seasons|\n",
      "|   Dear White People|       United States|4 Seasons|\n",
      "|     Falsa identidad|              Mexico|2 Seasons|\n",
      "|Resurrection: Ert...|              Turkey|5 Seasons|\n",
      "|Love on the Spectrum|           Australia|2 Seasons|\n",
      "|       Sex Education|      United Kingdom|3 Seasons|\n",
      "|        Chhota Bheem|               India|3 Seasons|\n",
      "|   Castle and Castle|             Nigeria|2 Seasons|\n",
      "|           Nailed It|       United States|6 Seasons|\n",
      "|        Numberblocks|      United Kingdom|6 Seasons|\n",
      "|   Saved by the Bell|       United States|9 Seasons|\n",
      "|Jack Whitehall: T...|      United Kingdom|5 Seasons|\n",
      "|The World's Most ...|                NULL|2 Seasons|\n",
      "|             Lucifer|       United States|6 Seasons|\n",
      "|       Titipo Titipo|                NULL|2 Seasons|\n",
      "|         Mighty Raju|                NULL|4 Seasons|\n",
      "|      Into the Night|             Belgium|2 Seasons|\n",
      "|          The Circle|United States, Un...|3 Seasons|\n",
      "+--------------------+--------------------+---------+\n",
      "only showing top 20 rows\n",
      "\n"
     ]
    }
   ],
   "source": [
    "df_season = df.select(\"title\", \"country\",\"duration\").filter(col(\"duration\").contains(\"Seasons\"))\n",
    "df_season.show()"
   ]
  },
  {
   "cell_type": "markdown",
   "id": "47122254-2630-493e-b57a-e7805fa400ee",
   "metadata": {},
   "source": [
    "### 6.Mostrar el total de peliculas por pais y ordenarlas del mayor al menor"
   ]
  },
  {
   "cell_type": "code",
   "execution_count": 45,
   "id": "cb9b9340-abf0-4d6a-98bc-98cc8d0d6fd4",
   "metadata": {},
   "outputs": [
    {
     "name": "stdout",
     "output_type": "stream",
     "text": [
      "+--------------------+-----+\n",
      "|             country|count|\n",
      "+--------------------+-----+\n",
      "|       United States| 2805|\n",
      "|               India|  972|\n",
      "|                NULL|  832|\n",
      "|      United Kingdom|  419|\n",
      "|               Japan|  245|\n",
      "|         South Korea|  199|\n",
      "|              Canada|  181|\n",
      "|               Spain|  145|\n",
      "|              France|  123|\n",
      "|              Mexico|  110|\n",
      "|               Egypt|  106|\n",
      "|              Turkey|  105|\n",
      "|             Nigeria|   93|\n",
      "|           Australia|   87|\n",
      "|              Taiwan|   81|\n",
      "|           Indonesia|   79|\n",
      "|              Brazil|   77|\n",
      "|United Kingdom, U...|   75|\n",
      "|         Philippines|   75|\n",
      "|United States, Ca...|   73|\n",
      "+--------------------+-----+\n",
      "only showing top 20 rows\n",
      "\n"
     ]
    }
   ],
   "source": [
    "df_pais = df.groupBy(\"country\").count().orderBy(col(\"count\").desc())\n",
    "df_pais.show()"
   ]
  },
  {
   "cell_type": "code",
   "execution_count": null,
   "id": "59c533ab-e621-43e4-952c-992771c96469",
   "metadata": {},
   "outputs": [],
   "source": []
  }
 ],
 "metadata": {
  "kernelspec": {
   "display_name": "Python 3 (ipykernel)",
   "language": "python",
   "name": "python3"
  },
  "language_info": {
   "codemirror_mode": {
    "name": "ipython",
    "version": 3
   },
   "file_extension": ".py",
   "mimetype": "text/x-python",
   "name": "python",
   "nbconvert_exporter": "python",
   "pygments_lexer": "ipython3",
   "version": "3.11.6"
  }
 },
 "nbformat": 4,
 "nbformat_minor": 5
}
